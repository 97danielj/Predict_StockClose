{
 "cells": [
  {
   "cell_type": "markdown",
   "metadata": {},
   "source": [
    "# 1. 환경설정"
   ]
  },
  {
   "cell_type": "code",
   "execution_count": 1,
   "metadata": {},
   "outputs": [],
   "source": [
    "import pickle\n",
    "import numpy as np\n",
    "import pandas as pd\n",
    "import os\n",
    "import warnings\n",
    "warnings.filterwarnings('ignore')\n",
    "import tensorflow as tf"
   ]
  },
  {
   "cell_type": "code",
   "execution_count": 2,
   "metadata": {},
   "outputs": [],
   "source": [
    "with open('df_sector_UTD.pickle','rb') as f:\n",
    "    df_sector_UTD = pickle.load(f)\n",
    "with open('certificated_stock_dic.pickle','rb') as f:\n",
    "    certificated_stock_dic = pickle.load(f)\n",
    "with open('X_scaler_dic.pickle','rb' ) as f:\n",
    "    X_scaler_dic = pickle.load(f)\n",
    "with open('y_scaler_dic.pickle','rb' ) as f:\n",
    "    y_scaler_dic = pickle.load(f)   "
   ]
  },
  {
   "cell_type": "code",
   "execution_count": 3,
   "metadata": {},
   "outputs": [],
   "source": [
    "for sector_name, sector_dic in df_sector_UTD.items():\n",
    "    for stock_code, df in sector_dic.items():\n",
    "        df.set_index('일자',inplace=True)"
   ]
  },
  {
   "cell_type": "markdown",
   "metadata": {},
   "source": [
    "# 2. 스케일링"
   ]
  },
  {
   "cell_type": "code",
   "execution_count": 4,
   "metadata": {},
   "outputs": [
    {
     "ename": "NameError",
     "evalue": "name 'y_UTD_scaled_dic' is not defined",
     "output_type": "error",
     "traceback": [
      "\u001b[0;31m---------------------------------------------------------------------------\u001b[0m",
      "\u001b[0;31mNameError\u001b[0m                                 Traceback (most recent call last)",
      "\u001b[0;32m<ipython-input-4-0d8f88483533>\u001b[0m in \u001b[0;36m<module>\u001b[0;34m\u001b[0m\n\u001b[1;32m      5\u001b[0m \u001b[0;32mfor\u001b[0m \u001b[0msector_name\u001b[0m\u001b[0;34m,\u001b[0m \u001b[0mstock_list\u001b[0m \u001b[0;32min\u001b[0m \u001b[0mcertificated_stock_dic\u001b[0m\u001b[0;34m.\u001b[0m\u001b[0mitems\u001b[0m\u001b[0;34m(\u001b[0m\u001b[0;34m)\u001b[0m\u001b[0;34m:\u001b[0m\u001b[0;34m\u001b[0m\u001b[0;34m\u001b[0m\u001b[0m\n\u001b[1;32m      6\u001b[0m     \u001b[0mX_UTD_scaled_dic\u001b[0m\u001b[0;34m[\u001b[0m\u001b[0msector_name\u001b[0m\u001b[0;34m]\u001b[0m \u001b[0;34m=\u001b[0m \u001b[0;34m{\u001b[0m\u001b[0;34m}\u001b[0m\u001b[0;34m\u001b[0m\u001b[0;34m\u001b[0m\u001b[0m\n\u001b[0;32m----> 7\u001b[0;31m     \u001b[0my_UTD_scaled_dic\u001b[0m\u001b[0;34m[\u001b[0m\u001b[0msector_name\u001b[0m\u001b[0;34m]\u001b[0m \u001b[0;34m=\u001b[0m \u001b[0;34m{\u001b[0m\u001b[0;34m}\u001b[0m\u001b[0;34m\u001b[0m\u001b[0;34m\u001b[0m\u001b[0m\n\u001b[0m\u001b[1;32m      8\u001b[0m     \u001b[0;32mfor\u001b[0m \u001b[0mstock_code\u001b[0m \u001b[0;32min\u001b[0m \u001b[0mstock_list\u001b[0m\u001b[0;34m:\u001b[0m\u001b[0;34m\u001b[0m\u001b[0;34m\u001b[0m\u001b[0m\n\u001b[1;32m      9\u001b[0m         \u001b[0mX_scaler\u001b[0m \u001b[0;34m=\u001b[0m \u001b[0mX_scaler_dic\u001b[0m\u001b[0;34m[\u001b[0m\u001b[0msector_name\u001b[0m\u001b[0;34m]\u001b[0m\u001b[0;34m[\u001b[0m\u001b[0mstock_code\u001b[0m\u001b[0;34m]\u001b[0m\u001b[0;34m\u001b[0m\u001b[0;34m\u001b[0m\u001b[0m\n",
      "\u001b[0;31mNameError\u001b[0m: name 'y_UTD_scaled_dic' is not defined"
     ]
    }
   ],
   "source": [
    "from sklearn.preprocessing import MinMaxScaler\n",
    "scale_cols = ['거래량','시가','고가', '저가']\n",
    "\n",
    "X_UTD_scaled_dic = {}\n",
    "for sector_name, stock_list in certificated_stock_dic.items():\n",
    "    X_UTD_scaled_dic[sector_name] = {}\n",
    "    for stock_code in stock_list:\n",
    "        X_scaler = X_scaler_dic[sector_name][stock_code]\n",
    "        X_UTD_scaled = X_scaler.transform(df_sector_UTD[sector_name][stock_code][scale_cols])\n",
    "        X_UTD_scaled_dic[sector_name][stock_code] = pd.DataFrame(X_UTD_scaled,index = df_sector_UTD[sector_name][stock_code].index,columns=scale_cols)\n",
    "        "
   ]
  },
  {
   "cell_type": "code",
   "execution_count": null,
   "metadata": {},
   "outputs": [],
   "source": [
    "X_UTD_scaled_dic"
   ]
  },
  {
   "cell_type": "code",
   "execution_count": null,
   "metadata": {},
   "outputs": [],
   "source": [
    "df_sector_UTD"
   ]
  },
  {
   "cell_type": "code",
   "execution_count": null,
   "metadata": {},
   "outputs": [],
   "source": [
    "#윈도우 사이즈\n",
    "WINDOW_SIZE = 20\n",
    "# X에 대한 윈도우 함수 설정값\n",
    "X_size = WINDOW_SIZE\n",
    "X_shift = 1\n",
    "X_stride = 1\n",
    "# y에 대한 윈도우 함수 설정값\n",
    "y_size = 1\n",
    "y_shift = 1\n",
    "y_stride = 1\n",
    "\n",
    "batch_size = 32"
   ]
  },
  {
   "cell_type": "markdown",
   "metadata": {},
   "source": [
    "# 2. 모델 불러오기"
   ]
  },
  {
   "cell_type": "code",
   "execution_count": null,
   "metadata": {},
   "outputs": [],
   "source": [
    "from tensorflow.keras.models import Sequential\n",
    "from tensorflow.keras.layers import Dense, LSTM, Conv1D, Lambda\n",
    "from tensorflow.keras.losses import Huber\n",
    "from tensorflow.keras.optimizers import Adam\n",
    "from tensorflow.keras.callbacks import EarlyStopping, ModelCheckpoint"
   ]
  },
  {
   "cell_type": "code",
   "execution_count": null,
   "metadata": {},
   "outputs": [],
   "source": [
    "with open('filename_dic.pickle', 'rb') as f:\n",
    "    filename_dic = pickle.load(f)"
   ]
  },
  {
   "cell_type": "code",
   "execution_count": null,
   "metadata": {},
   "outputs": [],
   "source": [
    "model_dic ={}\n",
    "for sector_name, stock_list in certificated_stock_dic.items():\n",
    "    model_dic[sector_name] = {}\n",
    "    for stock_code in stock_list:\n",
    "        model_dic[sector_name][stock_code] = Sequential([\n",
    "            # 1차원 feature map 생성\n",
    "            Conv1D(filters=32, kernel_size=5,\n",
    "                   padding=\"causal\",\n",
    "                   activation=\"relu\",\n",
    "                   #feature의 개수 3개\n",
    "                   input_shape=[WINDOW_SIZE, 4]),\n",
    "            # LSTM\n",
    "            LSTM(16, activation='tanh'),\n",
    "            Dense(16, activation=\"relu\"),\n",
    "            Dense(1),\n",
    "        ])"
   ]
  },
  {
   "cell_type": "markdown",
   "metadata": {},
   "source": [
    "# 리눅스 환경으로 변경"
   ]
  },
  {
   "cell_type": "code",
   "execution_count": null,
   "metadata": {},
   "outputs": [],
   "source": [
    "for_linux = {}\n",
    "for sector_name, sector_name_dic in certificated_stock_dic.items():\n",
    "    for_linux[sector_name] = {}\n",
    "    for stock_code in sector_name_dic:\n",
    "        linux_filename = filename_dic[sector_name][stock_code].replace('\\\\','/')\n",
    "        for_linux[sector_name][stock_code] = linux_filename"
   ]
  },
  {
   "cell_type": "code",
   "execution_count": null,
   "metadata": {},
   "outputs": [],
   "source": [
    "for sector_name, filename_sector in for_linux.items():\n",
    "    for stock_code, filename in filename_sector.items():\n",
    "        model_dic[sector_name][stock_code].load_weights(filename)"
   ]
  },
  {
   "cell_type": "markdown",
   "metadata": {},
   "source": [
    "# 검증된 항목에서 과거 5일 기준 tomorrow예측하기"
   ]
  },
  {
   "cell_type": "code",
   "execution_count": null,
   "metadata": {},
   "outputs": [],
   "source": [
    "from datetime import date,datetime, timedelta\n",
    "today = date.today()\n",
    "tomorrow = today+timedelta(days=1, hours = 9)\n",
    "tomorrow = tomorrow.isoformat()\n",
    "tomorrow = tomorrow.replace('-','')[2:]\n",
    "set_d = tomorrow\n",
    "set_d"
   ]
  },
  {
   "cell_type": "code",
   "execution_count": null,
   "metadata": {},
   "outputs": [],
   "source": [
    "pred_dic = {}\n",
    "for sector_name, sector_model in model_dic.items():\n",
    "    pred_dic[sector_name] = {}\n",
    "    # 과거5일통해 내일 주가 예측\n",
    "    for stock_code, model in sector_model.items():\n",
    "        tomorrow = tf.constant(np.expand_dims(np.array(X_UTD_scaled_dic[sector_name][stock_code].tail(20)[:20]),axis=0))\n",
    "        today = tf.constant(np.expand_dims(np.array(X_UTD_scaled_dic[sector_name][stock_code].tail(21)[:20]),axis=0))\n",
    "        pred_today = model.predict(today)\n",
    "        pred_tomorrow = model.predict(tomorrow)\n",
    "        y_scaler = y_scaler_dic[sector_name][stock_code]\n",
    "        origin_pred_tomorrow = y_scaler.inverse_transform(pred_tomorrow)\n",
    "        origin_pred_tomorrow = np.around(origin_pred_tomorrow,0)\n",
    "        origin_pred_tomorrow = int(origin_pred_tomorrow)\n",
    "\n",
    "        \n",
    "        #상향 : 2, 하향 : 1, 횡보 : 0\n",
    "        if pred_tomorrow > pred_today:\n",
    "            print(f'{stock_code}은 상향를 예상합니다.')\n",
    "            pred_dic[sector_name][stock_code] = (2,origin_pred_tomorrow)\n",
    "        elif pred_tomorrow < pred_today:\n",
    "            print(f'{stock_code}은 하향를 예상합니다.')\n",
    "            pred_dic[sector_name][stock_code] = (1,origin_pred_tomorrow)\n",
    "        elif pred_tomorrow == pred_today:\n",
    "            print(f'{stock_code}은 횡보를 예상합니다.')\n",
    "            pred_dic[sector_name][stock_code] = (0,origin_pred_tomorrow)"
   ]
  },
  {
   "cell_type": "code",
   "execution_count": null,
   "metadata": {},
   "outputs": [],
   "source": [
    "origin_pred_tomorrow"
   ]
  },
  {
   "cell_type": "code",
   "execution_count": null,
   "metadata": {},
   "outputs": [],
   "source": []
  }
 ],
 "metadata": {
  "kernelspec": {
   "display_name": "Python 3",
   "language": "python",
   "name": "python3"
  },
  "language_info": {
   "codemirror_mode": {
    "name": "ipython",
    "version": 3
   },
   "file_extension": ".py",
   "mimetype": "text/x-python",
   "name": "python",
   "nbconvert_exporter": "python",
   "pygments_lexer": "ipython3",
   "version": "3.7.4"
  }
 },
 "nbformat": 4,
 "nbformat_minor": 5
}
