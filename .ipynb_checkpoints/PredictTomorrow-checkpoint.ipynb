{
 "cells": [
  {
   "cell_type": "markdown",
   "id": "4d6950f3",
   "metadata": {},
   "source": [
    "# 1. 환경설정"
   ]
  },
  {
   "cell_type": "code",
   "execution_count": 1,
   "id": "504ef8b8",
   "metadata": {},
   "outputs": [
    {
     "ename": "ModuleNotFoundError",
     "evalue": "No module named 'tensorflow'",
     "output_type": "error",
     "traceback": [
      "\u001b[1;31m---------------------------------------------------------------------------\u001b[0m",
      "\u001b[1;31mModuleNotFoundError\u001b[0m                       Traceback (most recent call last)",
      "Input \u001b[1;32mIn [1]\u001b[0m, in \u001b[0;36m<cell line: 7>\u001b[1;34m()\u001b[0m\n\u001b[0;32m      5\u001b[0m \u001b[38;5;28;01mimport\u001b[39;00m \u001b[38;5;21;01mwarnings\u001b[39;00m\n\u001b[0;32m      6\u001b[0m warnings\u001b[38;5;241m.\u001b[39mfilterwarnings(\u001b[38;5;124m'\u001b[39m\u001b[38;5;124mignore\u001b[39m\u001b[38;5;124m'\u001b[39m)\n\u001b[1;32m----> 7\u001b[0m \u001b[38;5;28;01mimport\u001b[39;00m \u001b[38;5;21;01mtensorflow\u001b[39;00m \u001b[38;5;28;01mas\u001b[39;00m \u001b[38;5;21;01mtf\u001b[39;00m\n",
      "\u001b[1;31mModuleNotFoundError\u001b[0m: No module named 'tensorflow'"
     ]
    }
   ],
   "source": [
    "import pickle\n",
    "import numpy as np\n",
    "import pandas as pd\n",
    "import os\n",
    "import warnings\n",
    "warnings.filterwarnings('ignore')\n",
    "import tensorflow as tf"
   ]
  },
  {
   "cell_type": "code",
   "execution_count": null,
   "id": "7fea9d9f",
   "metadata": {},
   "outputs": [],
   "source": [
    "with open('df_scaled_UTD.pickle','rb') as f:\n",
    "    df_scaled_UTD = pickle.load(f)\n",
    "with open('sector.pickle','rb') as f:\n",
    "    sector = pickle.load(f)\n",
    "with open('X_scaler_dic.pickle','rb' ) as f:\n",
    "    X_scaler_dic = pickle.load(f)\n",
    "with open('y_scaler_dic.pickle','rb' ) as f:\n",
    "    y_scaler_dic = pickle.load(f)   "
   ]
  },
  {
   "cell_type": "code",
   "execution_count": null,
   "id": "3b8f8dce",
   "metadata": {},
   "outputs": [],
   "source": [
    "df_s"
   ]
  },
  {
   "cell_type": "code",
   "execution_count": null,
   "id": "d5ca37b5",
   "metadata": {},
   "outputs": [],
   "source": [
    "#윈도우 사이즈\n",
    "WINDOW_SIZE = 20\n",
    "# X에 대한 윈도우 함수 설정값\n",
    "X_size = WINDOW_SIZE\n",
    "X_shift = 1\n",
    "X_stride = 1\n",
    "# y에 대한 윈도우 함수 설정값\n",
    "y_size = 1\n",
    "y_shift = 1\n",
    "y_stride = 1\n",
    "\n",
    "batch_size = 32"
   ]
  },
  {
   "cell_type": "markdown",
   "id": "af59ca72",
   "metadata": {},
   "source": [
    "# 2. 모델 불러오기"
   ]
  },
  {
   "cell_type": "code",
   "execution_count": null,
   "id": "171bd11e",
   "metadata": {},
   "outputs": [],
   "source": [
    "from tensorflow.keras.models import Sequential\n",
    "from tensorflow.keras.layers import Dense, LSTM, Conv1D, Lambda\n",
    "from tensorflow.keras.losses import Huber\n",
    "from tensorflow.keras.optimizers import Adam\n",
    "from tensorflow.keras.callbacks import EarlyStopping, ModelCheckpoint"
   ]
  },
  {
   "cell_type": "code",
   "execution_count": null,
   "id": "3bad7df2",
   "metadata": {},
   "outputs": [],
   "source": [
    "model_dic ={}\n",
    "for sector_name, stock_list in sector.items():\n",
    "    model_dic[sector_name] = {}\n",
    "    for stock_code in stock_list:\n",
    "        model_dic[sector_name][stock_code] = Sequential([\n",
    "            # 1차원 feature map 생성\n",
    "            Conv1D(filters=32, kernel_size=5,\n",
    "                   padding=\"causal\",\n",
    "                   activation=\"relu\",\n",
    "                   #feature의 개수 3개\n",
    "                   input_shape=[WINDOW_SIZE, 4]),\n",
    "            # LSTM\n",
    "            LSTM(16, activation='tanh'),\n",
    "            Dense(16, activation=\"relu\"),\n",
    "            Dense(1),\n",
    "        ])"
   ]
  },
  {
   "cell_type": "code",
   "execution_count": null,
   "id": "3a81f572",
   "metadata": {},
   "outputs": [],
   "source": [
    "with open('filename_dic.pickle', 'rb') as f:\n",
    "    filename_dic = pickle.load(f)"
   ]
  },
  {
   "cell_type": "code",
   "execution_count": null,
   "id": "18904688",
   "metadata": {},
   "outputs": [],
   "source": [
    "filename_dic"
   ]
  },
  {
   "cell_type": "code",
   "execution_count": null,
   "id": "2f2cd819",
   "metadata": {},
   "outputs": [],
   "source": [
    "for_linux = {}\n",
    "for sector_name, sector_name_dic in filename_dic.items():\n",
    "    for_linux[sector_name] = {}\n",
    "    for stock_code, filename in sector_name_dic.items():\n",
    "        linux_filename = filename.replace('\\\\','/')\n",
    "        for_linux[sector_name][stock_code] = linux_filename"
   ]
  }
 ],
 "metadata": {
  "kernelspec": {
   "display_name": "Python 3 (ipykernel)",
   "language": "python",
   "name": "python3"
  },
  "language_info": {
   "codemirror_mode": {
    "name": "ipython",
    "version": 3
   },
   "file_extension": ".py",
   "mimetype": "text/x-python",
   "name": "python",
   "nbconvert_exporter": "python",
   "pygments_lexer": "ipython3",
   "version": "3.9.12"
  }
 },
 "nbformat": 4,
 "nbformat_minor": 5
}
