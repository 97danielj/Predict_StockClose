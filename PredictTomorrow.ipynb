{
 "cells": [
  {
   "cell_type": "markdown",
   "id": "4d6950f3",
   "metadata": {},
   "source": [
    "# 1. 환경설정"
   ]
  },
  {
   "cell_type": "code",
   "execution_count": 1,
   "id": "504ef8b8",
   "metadata": {},
   "outputs": [],
   "source": [
    "import pickle\n",
    "import numpy as np\n",
    "import pandas as pd\n",
    "import os\n",
    "import warnings\n",
    "warnings.filterwarnings('ignore')\n",
    "import tensorflow as tf"
   ]
  },
  {
   "cell_type": "code",
   "execution_count": 2,
   "id": "7fea9d9f",
   "metadata": {},
   "outputs": [],
   "source": [
    "with open('df_sector_UTD.pickle','rb') as f:\n",
    "    df_sector_UTD = pickle.load(f)\n",
    "with open('sector.pickle','rb') as f:\n",
    "    sector = pickle.load(f)\n",
    "with open('X_scaler_dic.pickle','rb' ) as f:\n",
    "    X_scaler_dic = pickle.load(f)\n",
    "with open('y_scaler_dic.pickle','rb' ) as f:\n",
    "    y_scaler_dic = pickle.load(f)   "
   ]
  },
  {
   "cell_type": "code",
   "execution_count": 3,
   "id": "d5ca37b5",
   "metadata": {},
   "outputs": [],
   "source": [
    "#윈도우 사이즈\n",
    "WINDOW_SIZE = 20\n",
    "# X에 대한 윈도우 함수 설정값\n",
    "X_size = WINDOW_SIZE\n",
    "X_shift = 1\n",
    "X_stride = 1\n",
    "# y에 대한 윈도우 함수 설정값\n",
    "y_size = 1\n",
    "y_shift = 1\n",
    "y_stride = 1\n",
    "\n",
    "batch_size = 32"
   ]
  },
  {
   "cell_type": "markdown",
   "id": "af59ca72",
   "metadata": {},
   "source": [
    "# 2. 모델 불러오기"
   ]
  },
  {
   "cell_type": "code",
   "execution_count": 4,
   "id": "171bd11e",
   "metadata": {},
   "outputs": [],
   "source": [
    "from tensorflow.keras.models import Sequential\n",
    "from tensorflow.keras.layers import Dense, LSTM, Conv1D, Lambda\n",
    "from tensorflow.keras.losses import Huber\n",
    "from tensorflow.keras.optimizers import Adam\n",
    "from tensorflow.keras.callbacks import EarlyStopping, ModelCheckpoint"
   ]
  },
  {
   "cell_type": "code",
   "execution_count": 5,
   "id": "b713bf0b",
   "metadata": {},
   "outputs": [],
   "source": [
    "with open('filename_dic.pickle', 'rb') as f:\n",
    "    filename_dic = pickle.load(f)"
   ]
  },
  {
   "cell_type": "code",
   "execution_count": 6,
   "id": "3bad7df2",
   "metadata": {},
   "outputs": [],
   "source": [
    "model_dic ={}\n",
    "for sector_name, stock_list in sector.items():\n",
    "    model_dic[sector_name] = {}\n",
    "    for stock_code in stock_list:\n",
    "        model_dic[sector_name][stock_code] = Sequential([\n",
    "            # 1차원 feature map 생성\n",
    "            Conv1D(filters=32, kernel_size=5,\n",
    "                   padding=\"causal\",\n",
    "                   activation=\"relu\",\n",
    "                   #feature의 개수 3개\n",
    "                   input_shape=[WINDOW_SIZE, 4]),\n",
    "            # LSTM\n",
    "            LSTM(16, activation='tanh'),\n",
    "            Dense(16, activation=\"relu\"),\n",
    "            Dense(1),\n",
    "        ])"
   ]
  },
  {
   "cell_type": "code",
   "execution_count": 7,
   "id": "18904688",
   "metadata": {},
   "outputs": [
    {
     "data": {
      "text/plain": [
       "{'Food': {'097950': 'Models\\\\Food\\\\097950ckeckpointer.ckpt',\n",
       "  '271560': 'Models\\\\Food\\\\271560ckeckpointer.ckpt',\n",
       "  '000080': 'Models\\\\Food\\\\000080ckeckpointer.ckpt',\n",
       "  '004370': 'Models\\\\Food\\\\004370ckeckpointer.ckpt',\n",
       "  '005300': 'Models\\\\Food\\\\005300ckeckpointer.ckpt'},\n",
       " 'Clothing': {'093050': 'Models\\\\Clothing\\\\093050ckeckpointer.ckpt',\n",
       "  '020000': 'Models\\\\Clothing\\\\020000ckeckpointer.ckpt',\n",
       "  '105630': 'Models\\\\Clothing\\\\105630ckeckpointer.ckpt',\n",
       "  '001070': 'Models\\\\Clothing\\\\001070ckeckpointer.ckpt'},\n",
       " 'Chemical': {'051910': 'Models\\\\Chemical\\\\051910ckeckpointer.ckpt',\n",
       "  '096770': 'Models\\\\Chemical\\\\096770ckeckpointer.ckpt',\n",
       "  '010950': 'Models\\\\Chemical\\\\010950ckeckpointer.ckpt',\n",
       "  '051900': 'Models\\\\Chemical\\\\051900ckeckpointer.ckpt',\n",
       "  '090430': 'Models\\\\Chemical\\\\090430ckeckpointer.ckpt'},\n",
       " 'Medicine': {'207940': 'Models\\\\Medicine\\\\207940ckeckpointer.ckpt',\n",
       "  '068270': 'Models\\\\Medicine\\\\068270ckeckpointer.ckpt',\n",
       "  '000100': 'Models\\\\Medicine\\\\000100ckeckpointer.ckpt',\n",
       "  '128940': 'Models\\\\Medicine\\\\128940ckeckpointer.ckpt'},\n",
       " 'Non_Metal': {'003670': 'Models\\\\Non_Metal\\\\003670ckeckpointer.ckpt',\n",
       "  '003410': 'Models\\\\Non_Metal\\\\003410ckeckpointer.ckpt',\n",
       "  '010780': 'Models\\\\Non_Metal\\\\010780ckeckpointer.ckpt'},\n",
       " 'Metal': {'005490': 'Models\\\\Metal\\\\005490ckeckpointer.ckpt',\n",
       "  '010130': 'Models\\\\Metal\\\\010130ckeckpointer.ckpt',\n",
       "  '004020': 'Models\\\\Metal\\\\004020ckeckpointer.ckpt',\n",
       "  '016380': 'Models\\\\Metal\\\\016380ckeckpointer.ckpt',\n",
       "  '001230': 'Models\\\\Metal\\\\001230ckeckpointer.ckpt'},\n",
       " 'Machine': {'034020': 'Models\\\\Machine\\\\034020ckeckpointer.ckpt',\n",
       "  '018880': 'Models\\\\Machine\\\\018880ckeckpointer.ckpt',\n",
       "  '241560': 'Models\\\\Machine\\\\241560ckeckpointer.ckpt',\n",
       "  '112610': 'Models\\\\Machine\\\\112610ckeckpointer.ckpt'},\n",
       " 'Electronic': {'005930': 'Models\\\\Electronic\\\\005930ckeckpointer.ckpt',\n",
       "  '000660': 'Models\\\\Electronic\\\\000660ckeckpointer.ckpt',\n",
       "  '006400': 'Models\\\\Electronic\\\\006400ckeckpointer.ckpt',\n",
       "  '066570': 'Models\\\\Electronic\\\\066570ckeckpointer.ckpt'},\n",
       " 'Construction': {'000720': 'Models\\\\Construction\\\\000720ckeckpointer.ckpt',\n",
       "  '006360': 'Models\\\\Construction\\\\006360ckeckpointer.ckpt',\n",
       "  '047040': 'Models\\\\Construction\\\\047040ckeckpointer.ckpt',\n",
       "  '051600': 'Models\\\\Construction\\\\051600ckeckpointer.ckpt'},\n",
       " 'Transport': {'011200': 'Models\\\\Transport\\\\011200ckeckpointer.ckpt',\n",
       "  '003490': 'Models\\\\Transport\\\\003490ckeckpointer.ckpt',\n",
       "  '086280': 'Models\\\\Transport\\\\086280ckeckpointer.ckpt',\n",
       "  '180640': 'Models\\\\Transport\\\\180640ckeckpointer.ckpt',\n",
       "  '028670': 'Models\\\\Transport\\\\028670ckeckpointer.ckpt'},\n",
       " 'Distribution': {'028260': 'Models\\\\Distribution\\\\028260ckeckpointer.ckpt',\n",
       "  '023530': 'Models\\\\Distribution\\\\023530ckeckpointer.ckpt',\n",
       "  '282330': 'Models\\\\Distribution\\\\282330ckeckpointer.ckpt',\n",
       "  '139480': 'Models\\\\Distribution\\\\139480ckeckpointer.ckpt',\n",
       "  '004170': 'Models\\\\Distribution\\\\004170ckeckpointer.ckpt'},\n",
       " 'Power': {'015760': 'Models\\\\Power\\\\015760ckeckpointer.ckpt',\n",
       "  '036460': 'Models\\\\Power\\\\036460ckeckpointer.ckpt',\n",
       "  '017390': 'Models\\\\Power\\\\017390ckeckpointer.ckpt'},\n",
       " 'Tele': {'017670': 'Models\\\\Tele\\\\017670ckeckpointer.ckpt',\n",
       "  '030200': 'Models\\\\Tele\\\\030200ckeckpointer.ckpt',\n",
       "  '032640': 'Models\\\\Tele\\\\032640ckeckpointer.ckpt'},\n",
       " 'Finance': {'003550': 'Models\\\\Finance\\\\003550ckeckpointer.ckpt',\n",
       "  '000810': 'Models\\\\Finance\\\\000810ckeckpointer.ckpt',\n",
       "  '006800': 'Models\\\\Finance\\\\006800ckeckpointer.ckpt'},\n",
       " 'Brokerage': {'005940': 'Models\\\\Brokerage\\\\005940ckeckpointer.ckpt',\n",
       "  '016360': 'Models\\\\Brokerage\\\\016360ckeckpointer.ckpt',\n",
       "  '008560': 'Models\\\\Brokerage\\\\008560ckeckpointer.ckpt',\n",
       "  '039490': 'Models\\\\Brokerage\\\\039490ckeckpointer.ckpt'},\n",
       " 'Insurer': {'032830': 'Models\\\\Insurer\\\\032830ckeckpointer.ckpt',\n",
       "  '005830': 'Models\\\\Insurer\\\\005830ckeckpointer.ckpt',\n",
       "  '000060': 'Models\\\\Insurer\\\\000060ckeckpointer.ckpt',\n",
       "  '001450': 'Models\\\\Insurer\\\\001450ckeckpointer.ckpt'},\n",
       " 'Service': {'035420': 'Models\\\\Service\\\\035420ckeckpointer.ckpt',\n",
       "  '035720': 'Models\\\\Service\\\\035720ckeckpointer.ckpt',\n",
       "  '018260': 'Models\\\\Service\\\\018260ckeckpointer.ckpt',\n",
       "  '036570': 'Models\\\\Service\\\\036570ckeckpointer.ckpt'},\n",
       " 'Manufacturer': {'005380': 'Models\\\\Manufacturer\\\\005380ckeckpointer.ckpt',\n",
       "  '000270': 'Models\\\\Manufacturer\\\\000270ckeckpointer.ckpt',\n",
       "  '012330': 'Models\\\\Manufacturer\\\\012330ckeckpointer.ckpt',\n",
       "  '033780': 'Models\\\\Manufacturer\\\\033780ckeckpointer.ckpt',\n",
       "  '009150': 'Models\\\\Manufacturer\\\\009150ckeckpointer.ckpt'}}"
      ]
     },
     "execution_count": 7,
     "metadata": {},
     "output_type": "execute_result"
    }
   ],
   "source": [
    "filename_dic"
   ]
  },
  {
   "cell_type": "code",
   "execution_count": 8,
   "id": "2f2cd819",
   "metadata": {},
   "outputs": [],
   "source": [
    "for_linux = {}\n",
    "for sector_name, sector_name_dic in filename_dic.items():\n",
    "    for_linux[sector_name] = {}\n",
    "    for stock_code, filename in sector_name_dic.items():\n",
    "        linux_filename = filename.replace('\\\\','/')\n",
    "        for_linux[sector_name][stock_code] = linux_filename"
   ]
  },
  {
   "cell_type": "code",
   "execution_count": 9,
   "id": "c9bc135d",
   "metadata": {},
   "outputs": [
    {
     "data": {
      "text/plain": [
       "{'Food': {'097950': 'Models/Food/097950ckeckpointer.ckpt',\n",
       "  '271560': 'Models/Food/271560ckeckpointer.ckpt',\n",
       "  '000080': 'Models/Food/000080ckeckpointer.ckpt',\n",
       "  '004370': 'Models/Food/004370ckeckpointer.ckpt',\n",
       "  '005300': 'Models/Food/005300ckeckpointer.ckpt'},\n",
       " 'Clothing': {'093050': 'Models/Clothing/093050ckeckpointer.ckpt',\n",
       "  '020000': 'Models/Clothing/020000ckeckpointer.ckpt',\n",
       "  '105630': 'Models/Clothing/105630ckeckpointer.ckpt',\n",
       "  '001070': 'Models/Clothing/001070ckeckpointer.ckpt'},\n",
       " 'Chemical': {'051910': 'Models/Chemical/051910ckeckpointer.ckpt',\n",
       "  '096770': 'Models/Chemical/096770ckeckpointer.ckpt',\n",
       "  '010950': 'Models/Chemical/010950ckeckpointer.ckpt',\n",
       "  '051900': 'Models/Chemical/051900ckeckpointer.ckpt',\n",
       "  '090430': 'Models/Chemical/090430ckeckpointer.ckpt'},\n",
       " 'Medicine': {'207940': 'Models/Medicine/207940ckeckpointer.ckpt',\n",
       "  '068270': 'Models/Medicine/068270ckeckpointer.ckpt',\n",
       "  '000100': 'Models/Medicine/000100ckeckpointer.ckpt',\n",
       "  '128940': 'Models/Medicine/128940ckeckpointer.ckpt'},\n",
       " 'Non_Metal': {'003670': 'Models/Non_Metal/003670ckeckpointer.ckpt',\n",
       "  '003410': 'Models/Non_Metal/003410ckeckpointer.ckpt',\n",
       "  '010780': 'Models/Non_Metal/010780ckeckpointer.ckpt'},\n",
       " 'Metal': {'005490': 'Models/Metal/005490ckeckpointer.ckpt',\n",
       "  '010130': 'Models/Metal/010130ckeckpointer.ckpt',\n",
       "  '004020': 'Models/Metal/004020ckeckpointer.ckpt',\n",
       "  '016380': 'Models/Metal/016380ckeckpointer.ckpt',\n",
       "  '001230': 'Models/Metal/001230ckeckpointer.ckpt'},\n",
       " 'Machine': {'034020': 'Models/Machine/034020ckeckpointer.ckpt',\n",
       "  '018880': 'Models/Machine/018880ckeckpointer.ckpt',\n",
       "  '241560': 'Models/Machine/241560ckeckpointer.ckpt',\n",
       "  '112610': 'Models/Machine/112610ckeckpointer.ckpt'},\n",
       " 'Electronic': {'005930': 'Models/Electronic/005930ckeckpointer.ckpt',\n",
       "  '000660': 'Models/Electronic/000660ckeckpointer.ckpt',\n",
       "  '006400': 'Models/Electronic/006400ckeckpointer.ckpt',\n",
       "  '066570': 'Models/Electronic/066570ckeckpointer.ckpt'},\n",
       " 'Construction': {'000720': 'Models/Construction/000720ckeckpointer.ckpt',\n",
       "  '006360': 'Models/Construction/006360ckeckpointer.ckpt',\n",
       "  '047040': 'Models/Construction/047040ckeckpointer.ckpt',\n",
       "  '051600': 'Models/Construction/051600ckeckpointer.ckpt'},\n",
       " 'Transport': {'011200': 'Models/Transport/011200ckeckpointer.ckpt',\n",
       "  '003490': 'Models/Transport/003490ckeckpointer.ckpt',\n",
       "  '086280': 'Models/Transport/086280ckeckpointer.ckpt',\n",
       "  '180640': 'Models/Transport/180640ckeckpointer.ckpt',\n",
       "  '028670': 'Models/Transport/028670ckeckpointer.ckpt'},\n",
       " 'Distribution': {'028260': 'Models/Distribution/028260ckeckpointer.ckpt',\n",
       "  '023530': 'Models/Distribution/023530ckeckpointer.ckpt',\n",
       "  '282330': 'Models/Distribution/282330ckeckpointer.ckpt',\n",
       "  '139480': 'Models/Distribution/139480ckeckpointer.ckpt',\n",
       "  '004170': 'Models/Distribution/004170ckeckpointer.ckpt'},\n",
       " 'Power': {'015760': 'Models/Power/015760ckeckpointer.ckpt',\n",
       "  '036460': 'Models/Power/036460ckeckpointer.ckpt',\n",
       "  '017390': 'Models/Power/017390ckeckpointer.ckpt'},\n",
       " 'Tele': {'017670': 'Models/Tele/017670ckeckpointer.ckpt',\n",
       "  '030200': 'Models/Tele/030200ckeckpointer.ckpt',\n",
       "  '032640': 'Models/Tele/032640ckeckpointer.ckpt'},\n",
       " 'Finance': {'003550': 'Models/Finance/003550ckeckpointer.ckpt',\n",
       "  '000810': 'Models/Finance/000810ckeckpointer.ckpt',\n",
       "  '006800': 'Models/Finance/006800ckeckpointer.ckpt'},\n",
       " 'Brokerage': {'005940': 'Models/Brokerage/005940ckeckpointer.ckpt',\n",
       "  '016360': 'Models/Brokerage/016360ckeckpointer.ckpt',\n",
       "  '008560': 'Models/Brokerage/008560ckeckpointer.ckpt',\n",
       "  '039490': 'Models/Brokerage/039490ckeckpointer.ckpt'},\n",
       " 'Insurer': {'032830': 'Models/Insurer/032830ckeckpointer.ckpt',\n",
       "  '005830': 'Models/Insurer/005830ckeckpointer.ckpt',\n",
       "  '000060': 'Models/Insurer/000060ckeckpointer.ckpt',\n",
       "  '001450': 'Models/Insurer/001450ckeckpointer.ckpt'},\n",
       " 'Service': {'035420': 'Models/Service/035420ckeckpointer.ckpt',\n",
       "  '035720': 'Models/Service/035720ckeckpointer.ckpt',\n",
       "  '018260': 'Models/Service/018260ckeckpointer.ckpt',\n",
       "  '036570': 'Models/Service/036570ckeckpointer.ckpt'},\n",
       " 'Manufacturer': {'005380': 'Models/Manufacturer/005380ckeckpointer.ckpt',\n",
       "  '000270': 'Models/Manufacturer/000270ckeckpointer.ckpt',\n",
       "  '012330': 'Models/Manufacturer/012330ckeckpointer.ckpt',\n",
       "  '033780': 'Models/Manufacturer/033780ckeckpointer.ckpt',\n",
       "  '009150': 'Models/Manufacturer/009150ckeckpointer.ckpt'}}"
      ]
     },
     "execution_count": 9,
     "metadata": {},
     "output_type": "execute_result"
    }
   ],
   "source": [
    "for_linux"
   ]
  },
  {
   "cell_type": "code",
   "execution_count": null,
   "id": "73ab0ed0",
   "metadata": {},
   "outputs": [],
   "source": [
    "for"
   ]
  }
 ],
 "metadata": {
  "kernelspec": {
   "display_name": "Python 3 (ipykernel)",
   "language": "python",
   "name": "python3"
  },
  "language_info": {
   "codemirror_mode": {
    "name": "ipython",
    "version": 3
   },
   "file_extension": ".py",
   "mimetype": "text/x-python",
   "name": "python",
   "nbconvert_exporter": "python",
   "pygments_lexer": "ipython3",
   "version": "3.9.12"
  }
 },
 "nbformat": 4,
 "nbformat_minor": 5
}
