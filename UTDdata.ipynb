{
 "cells": [
  {
   "cell_type": "markdown",
   "id": "d5258eb1",
   "metadata": {},
   "source": [
    "# 1. 환경설정"
   ]
  },
  {
   "cell_type": "code",
   "execution_count": 1,
   "id": "cc09ae31",
   "metadata": {},
   "outputs": [
    {
     "name": "stderr",
     "output_type": "stream",
     "text": [
      "C:\\ProgramData\\Anaconda3\\lib\\site-packages\\numpy\\_distributor_init.py:30: UserWarning: loaded more than 1 DLL from .libs:\n",
      "C:\\ProgramData\\Anaconda3\\lib\\site-packages\\numpy\\.libs\\libopenblas64__v0.3.21-gcc_10_3_0.dll\n",
      "C:\\ProgramData\\Anaconda3\\lib\\site-packages\\numpy\\.libs\\libopenblas64__v0.3.23-246-g3d31191b-gcc_10_3_0.dll\n",
      "  warnings.warn(\"loaded more than 1 DLL from .libs:\"\n",
      "C:\\ProgramData\\Anaconda3\\lib\\site-packages\\numpy\\_distributor_init.py:30: UserWarning: loaded more than 1 DLL from .libs:\n",
      "C:\\ProgramData\\Anaconda3\\lib\\site-packages\\numpy\\.libs\\libopenblas64__v0.3.21-gcc_10_3_0.dll\n",
      "C:\\ProgramData\\Anaconda3\\lib\\site-packages\\numpy\\.libs\\libopenblas64__v0.3.23-246-g3d31191b-gcc_10_3_0.dll\n",
      "  warnings.warn(\"loaded more than 1 DLL from .libs:\"\n"
     ]
    }
   ],
   "source": [
    "import pandas as pd\n",
    "from bs4 import BeautifulSoup\n",
    "import requests\n",
    "import warnings\n",
    "warnings.filterwarnings('ignore')\n",
    "import time\n",
    "import pickle\n",
    "from tqdm import tqdm"
   ]
  },
  {
   "cell_type": "code",
   "execution_count": 2,
   "id": "5b4b15a8",
   "metadata": {},
   "outputs": [],
   "source": [
    "import pickle\n",
    "with open('certificated_stock_dic.pickle','rb') as f:\n",
    "    certificated_stock_dic = pickle.load(f)"
   ]
  },
  {
   "cell_type": "markdown",
   "id": "fc6d39d6",
   "metadata": {},
   "source": [
    "# 2. 일별 종가 데이터 수집 - 20개\n",
    "키움API는 구름IDE에서 실행이 안되어 따로 웹크롤링"
   ]
  },
  {
   "cell_type": "code",
   "execution_count": 3,
   "id": "b5fd07c8",
   "metadata": {},
   "outputs": [],
   "source": [
    "def get_stock_price(code, num_of_pages=2):\n",
    "    url = f\"http://finance.naver.com/item/sise_day.nhn?code={code}\" \n",
    "    bs = BeautifulSoup(requests.get(url=url, headers = headers).text, 'html.parser')\n",
    "    pgrr = bs.find(\"td\", class_=\"pgRR\")\n",
    "    last_page = int(pgrr.a[\"href\"].split('=')[-1])\n",
    "    pages = min(last_page, num_of_pages) # 마지막 페이지와 가져올 페이지 수 중에 작은 값 선택\n",
    "    df = pd.DataFrame()\n",
    "\n",
    "    for page in range(1, pages+1):\n",
    "        page_url = '{}&page={}'.format(url, page)\n",
    "        df = df.append(pd.read_html(requests.get(page_url, headers={'User-agent': 'Mozilla/5.0'}).text)[0])\n",
    "        \n",
    "    df['일자'] = pd.to_datetime(df['날짜']) \n",
    "    df = df.dropna()\n",
    "    df[['종가',  '시가', '고가', '저가', '거래량']] = df[['종가', '시가', '고가', '저가', '거래량']].astype(int) # int형으로 변경\n",
    "    df = df[['일자', '거래량','시가', '고가', '저가','종가']] # 컬럼 순서 정렬\n",
    "    df = df.sort_values(by = '일자') # 날짜순으로 정렬\n",
    "    df = df.loc[::-1].reset_index(drop=True)\n",
    "    return df"
   ]
  },
  {
   "cell_type": "code",
   "execution_count": 4,
   "id": "550a11a2",
   "metadata": {},
   "outputs": [
    {
     "ename": "NameError",
     "evalue": "name 'sector' is not defined",
     "output_type": "error",
     "traceback": [
      "\u001b[1;31m---------------------------------------------------------------------------\u001b[0m",
      "\u001b[1;31mNameError\u001b[0m                                 Traceback (most recent call last)",
      "\u001b[1;32m~\\AppData\\Local\\Temp\\ipykernel_44132\\1599723923.py\u001b[0m in \u001b[0;36m<module>\u001b[1;34m\u001b[0m\n\u001b[0;32m      2\u001b[0m \u001b[1;31m#pages = 2\u001b[0m\u001b[1;33m\u001b[0m\u001b[1;33m\u001b[0m\u001b[0m\n\u001b[0;32m      3\u001b[0m \u001b[0mdf_sector_UTD\u001b[0m \u001b[1;33m=\u001b[0m \u001b[1;33m{\u001b[0m\u001b[1;33m}\u001b[0m\u001b[1;33m\u001b[0m\u001b[1;33m\u001b[0m\u001b[0m\n\u001b[1;32m----> 4\u001b[1;33m \u001b[1;32mfor\u001b[0m \u001b[0msector_name\u001b[0m \u001b[1;32min\u001b[0m \u001b[0msector\u001b[0m\u001b[1;33m:\u001b[0m\u001b[1;33m\u001b[0m\u001b[1;33m\u001b[0m\u001b[0m\n\u001b[0m\u001b[0;32m      5\u001b[0m     \u001b[0mdf_sector_UTD\u001b[0m\u001b[1;33m[\u001b[0m\u001b[0msector_name\u001b[0m\u001b[1;33m]\u001b[0m \u001b[1;33m=\u001b[0m \u001b[1;33m{\u001b[0m\u001b[1;33m}\u001b[0m\u001b[1;33m\u001b[0m\u001b[1;33m\u001b[0m\u001b[0m\n",
      "\u001b[1;31mNameError\u001b[0m: name 'sector' is not defined"
     ]
    },
    {
     "ename": "NameError",
     "evalue": "name 'sector' is not defined",
     "output_type": "error",
     "traceback": [
      "\u001b[1;31m---------------------------------------------------------------------------\u001b[0m",
      "\u001b[1;31mNameError\u001b[0m                                 Traceback (most recent call last)",
      "\u001b[1;32m~\\AppData\\Local\\Temp\\ipykernel_44132\\1599723923.py\u001b[0m in \u001b[0;36m<module>\u001b[1;34m\u001b[0m\n\u001b[0;32m      2\u001b[0m \u001b[1;31m#pages = 2\u001b[0m\u001b[1;33m\u001b[0m\u001b[1;33m\u001b[0m\u001b[0m\n\u001b[0;32m      3\u001b[0m \u001b[0mdf_sector_UTD\u001b[0m \u001b[1;33m=\u001b[0m \u001b[1;33m{\u001b[0m\u001b[1;33m}\u001b[0m\u001b[1;33m\u001b[0m\u001b[1;33m\u001b[0m\u001b[0m\n\u001b[1;32m----> 4\u001b[1;33m \u001b[1;32mfor\u001b[0m \u001b[0msector_name\u001b[0m \u001b[1;32min\u001b[0m \u001b[0msector\u001b[0m\u001b[1;33m:\u001b[0m\u001b[1;33m\u001b[0m\u001b[1;33m\u001b[0m\u001b[0m\n\u001b[0m\u001b[0;32m      5\u001b[0m     \u001b[0mdf_sector_UTD\u001b[0m\u001b[1;33m[\u001b[0m\u001b[0msector_name\u001b[0m\u001b[1;33m]\u001b[0m \u001b[1;33m=\u001b[0m \u001b[1;33m{\u001b[0m\u001b[1;33m}\u001b[0m\u001b[1;33m\u001b[0m\u001b[1;33m\u001b[0m\u001b[0m\n",
      "\u001b[1;31mNameError\u001b[0m: name 'sector' is not defined"
     ]
    }
   ],
   "source": [
    "headers = {'User-agent': 'Mozilla/5.0'}\n",
    "#pages = 2\n",
    "df_sector_UTD = {}\n",
    "for sector_name in sector:\n",
    "    df_sector_UTD[sector_name] = {}\n"
   ]
  },
  {
   "cell_type": "code",
   "execution_count": null,
   "id": "31db8c87",
   "metadata": {},
   "outputs": [],
   "source": [
    "for sector_name, code_list in certificated_stock_dic.items():\n",
    "    for stock_code in tqdm(code_list):\n",
    "        df_sector_UTD[sector_name][stock_code] = get_stock_price(stock_code)\n",
    "        time.sleep(0.01)"
   ]
  },
  {
   "cell_type": "code",
   "execution_count": null,
   "id": "e61e2c86",
   "metadata": {},
   "outputs": [],
   "source": [
    "df_sector_UTD['Food']['097950']"
   ]
  },
  {
   "cell_type": "code",
   "execution_count": null,
   "id": "394f0d06",
   "metadata": {},
   "outputs": [],
   "source": [
    "for sector_name, df_dict in df_sector_UTD.items():\n",
    "    for stock_code, df in df_dict.items():\n",
    "        df=df.drop_duplicates(subset=['일자'])\n",
    "        df = df.sort_values(by=df.columns[0],ascending=True)\n",
    "        df = df.reset_index(drop=True)\n",
    "        df_sector_UTD[sector_name][stock_code] = df"
   ]
  },
  {
   "cell_type": "code",
   "execution_count": null,
   "id": "5e46d978",
   "metadata": {},
   "outputs": [],
   "source": [
    "'''for sector_name, df_dict in df_sector.items():\n",
    "    for stock_code, df in df_dict.items():\n",
    "        df = pd.concat([df_sector_UTD[sector_name][stock_code],df_sector[sector_name][stock_code]],axis=0)\n",
    "        df=df.drop_duplicates(subset=['일자'])\n",
    "        df = df.sort_values(by=df.columns[0],ascending=True)\n",
    "        df = df.reset_index(drop=True)\n",
    "        df_sector_UTD[sector_name][stock_code] = df'''"
   ]
  },
  {
   "cell_type": "code",
   "execution_count": null,
   "id": "11b83c79",
   "metadata": {},
   "outputs": [],
   "source": [
    "with open('df_sector_UTD.pickle','wb') as f:\n",
    "    pickle.dump(df_sector_UTD,f)"
   ]
  },
  {
   "cell_type": "code",
   "execution_count": null,
   "id": "7e8a0445",
   "metadata": {},
   "outputs": [],
   "source": []
  }
 ],
 "metadata": {
  "kernelspec": {
   "display_name": "Python 3 (ipykernel)",
   "language": "python",
   "name": "python3"
  },
  "language_info": {
   "codemirror_mode": {
    "name": "ipython",
    "version": 3
   },
   "file_extension": ".py",
   "mimetype": "text/x-python",
   "name": "python",
   "nbconvert_exporter": "python",
   "pygments_lexer": "ipython3",
   "version": "3.9.13"
  }
 },
 "nbformat": 4,
 "nbformat_minor": 5
}
