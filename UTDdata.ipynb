{
 "cells": [
  {
   "cell_type": "markdown",
   "id": "ecf36707",
   "metadata": {},
   "source": [
    "# 1. 환경설정"
   ]
  },
  {
   "cell_type": "code",
   "execution_count": 1,
   "id": "6616599d",
   "metadata": {},
   "outputs": [],
   "source": [
    "import pandas as pd\n",
    "from bs4 import BeautifulSoup\n",
    "import requests\n",
    "import warnings\n",
    "warnings.filterwarnings('ignore')\n",
    "import time\n",
    "import pickle\n",
    "from tqdm import tqdm"
   ]
  },
  {
   "cell_type": "code",
   "execution_count": 2,
   "id": "399ec69d",
   "metadata": {},
   "outputs": [],
   "source": [
    "import pickle\n",
    "with open('sector.pickle','rb') as f:\n",
    "    sector = pickle.load(f)"
   ]
  },
  {
   "cell_type": "code",
   "execution_count": 3,
   "id": "6dfc0e87",
   "metadata": {},
   "outputs": [
    {
     "data": {
      "text/plain": [
       "{'Food': ['097950', '271560', '000080', '004370', '005300'],\n",
       " 'Clothing': ['093050', '020000', '105630', '001070'],\n",
       " 'Chemical': ['051910', '096770', '010950', '051900', '090430'],\n",
       " 'Medicine': ['207940', '068270', '000100', '128940'],\n",
       " 'Non_Metal': ['003670', '003410', '010780'],\n",
       " 'Metal': ['005490', '010130', '004020', '016380', '001230'],\n",
       " 'Machine': ['034020', '018880', '241560', '112610'],\n",
       " 'Electronic': ['005930', '000660', '006400', '066570'],\n",
       " 'Construction': ['000720', '006360', '047040', '051600'],\n",
       " 'Transport': ['011200', '003490', '086280', '180640', '028670'],\n",
       " 'Distribution': ['028260', '023530', '282330', '139480', '004170'],\n",
       " 'Power': ['015760', '036460', '017390'],\n",
       " 'Tele': ['017670', '030200', '032640'],\n",
       " 'Finance': ['003550', '000810', '006800'],\n",
       " 'Brokerage': ['005940', '016360', '008560', '039490'],\n",
       " 'Insurer': ['032830', '005830', '000060', '001450'],\n",
       " 'Service': ['035420', '035720', '018260', '036570'],\n",
       " 'Manufacturer': ['005380', '000270', '012330', '033780', '009150']}"
      ]
     },
     "execution_count": 3,
     "metadata": {},
     "output_type": "execute_result"
    }
   ],
   "source": [
    "df"
   ]
  },
  {
   "cell_type": "markdown",
   "id": "8fa1bea4",
   "metadata": {},
   "source": [
    "# 2. 일별 종가 데이터 수집 - 10개\n",
    "키움API는 구름IDE에서 실행이 안되어 따로 웹크롤링"
   ]
  },
  {
   "cell_type": "code",
   "execution_count": 4,
   "id": "dadbc391",
   "metadata": {},
   "outputs": [],
   "source": [
    "def get_stock_price(code, num_of_pages):\n",
    "    url = f\"http://finance.naver.com/item/sise_day.nhn?code={code}\" \n",
    "    bs = BeautifulSoup(requests.get(url=url, headers = headers).text, 'html.parser')\n",
    "    pgrr = bs.find(\"td\", class_=\"pgRR\")\n",
    "    last_page = int(pgrr.a[\"href\"].split('=')[-1])\n",
    "    pages = min(last_page, num_of_pages) # 마지막 페이지와 가져올 페이지 수 중에 작은 값 선택\n",
    "    df = pd.DataFrame()\n",
    "\n",
    "    for page in range(1, pages+1):\n",
    "        page_url = '{}&page={}'.format(url, page)\n",
    "        df = df.append(pd.read_html(requests.get(page_url, headers={'User-agent': 'Mozilla/5.0'}).text)[0])\n",
    "        \n",
    "    df['일자'] = pd.to_datetime(df['날짜']) \n",
    "    df = df.dropna()\n",
    "    df[['종가',  '시가', '고가', '저가', '거래량']] = df[['종가', '시가', '고가', '저가', '거래량']].astype(int) # int형으로 변경\n",
    "    df = df[['일자', '거래량','시가', '고가', '저가','종가']] # 컬럼 순서 정렬\n",
    "    df = df.sort_values(by = '일자') # 날짜순으로 정렬\n",
    "    df = df.loc[::-1].reset_index(drop=True)\n",
    "    return df"
   ]
  },
  {
   "cell_type": "code",
   "execution_count": 5,
   "id": "83235d89",
   "metadata": {},
   "outputs": [],
   "source": [
    "headers = {'User-agent': 'Mozilla/5.0'}\n",
    "pages = 1\n",
    "df_sector_UTD = {}\n",
    "for sector_name in sector:\n",
    "    df_sector_UTD[sector_name] = {}\n"
   ]
  },
  {
   "cell_type": "code",
   "execution_count": 6,
   "id": "305764eb",
   "metadata": {},
   "outputs": [
    {
     "name": "stderr",
     "output_type": "stream",
     "text": [
      "100%|████████████████████████████████████████████████████████████████████████████████████| 5/5 [00:01<00:00,  4.48it/s]\n",
      "100%|████████████████████████████████████████████████████████████████████████████████████| 4/4 [00:00<00:00,  4.75it/s]\n",
      "100%|████████████████████████████████████████████████████████████████████████████████████| 5/5 [00:01<00:00,  4.55it/s]\n",
      "100%|████████████████████████████████████████████████████████████████████████████████████| 4/4 [00:00<00:00,  4.92it/s]\n",
      "100%|████████████████████████████████████████████████████████████████████████████████████| 3/3 [00:00<00:00,  4.75it/s]\n",
      "100%|████████████████████████████████████████████████████████████████████████████████████| 5/5 [00:01<00:00,  4.76it/s]\n",
      "100%|████████████████████████████████████████████████████████████████████████████████████| 4/4 [00:00<00:00,  4.75it/s]\n",
      "100%|████████████████████████████████████████████████████████████████████████████████████| 4/4 [00:00<00:00,  4.67it/s]\n",
      "100%|████████████████████████████████████████████████████████████████████████████████████| 4/4 [00:00<00:00,  4.59it/s]\n",
      "100%|████████████████████████████████████████████████████████████████████████████████████| 5/5 [00:01<00:00,  4.74it/s]\n",
      "100%|████████████████████████████████████████████████████████████████████████████████████| 5/5 [00:01<00:00,  4.75it/s]\n",
      "100%|████████████████████████████████████████████████████████████████████████████████████| 3/3 [00:00<00:00,  4.65it/s]\n",
      "100%|████████████████████████████████████████████████████████████████████████████████████| 3/3 [00:00<00:00,  4.76it/s]\n",
      "100%|████████████████████████████████████████████████████████████████████████████████████| 3/3 [00:00<00:00,  4.65it/s]\n",
      "100%|████████████████████████████████████████████████████████████████████████████████████| 4/4 [00:00<00:00,  4.67it/s]\n",
      "100%|████████████████████████████████████████████████████████████████████████████████████| 4/4 [00:00<00:00,  4.75it/s]\n",
      "100%|████████████████████████████████████████████████████████████████████████████████████| 4/4 [00:00<00:00,  4.76it/s]\n",
      "100%|████████████████████████████████████████████████████████████████████████████████████| 5/5 [00:01<00:00,  4.70it/s]\n"
     ]
    }
   ],
   "source": [
    "for sector_name, code_list in sector.items():\n",
    "    for stock_code in tqdm(code_list):\n",
    "        df_sector_UTD[sector_name][stock_code] = get_stock_price(stock_code,pages)\n",
    "        time.sleep(0.01)"
   ]
  },
  {
   "cell_type": "markdown",
   "id": "180173a7",
   "metadata": {},
   "source": [
    "# 이전 data와 최신 data 병합(최신화)"
   ]
  },
  {
   "cell_type": "code",
   "execution_count": 7,
   "id": "db90142c",
   "metadata": {},
   "outputs": [],
   "source": [
    "with open('df_sector.pickle','rb') as f:\n",
    "    df_sector = pickle.load(f)"
   ]
  },
  {
   "cell_type": "code",
   "execution_count": 8,
   "id": "e0d3d763",
   "metadata": {},
   "outputs": [],
   "source": [
    "for sector_name, df_dict in df_sector.items():\n",
    "    for stock_code, df in df_dict.items():\n",
    "        df = pd.concat([df_sector_UTD[sector_name][stock_code],df_sector[sector_name][stock_code]],axis=0)\n",
    "        df=df.drop_duplicates(subset=['일자'])\n",
    "        df = df.sort_values(by=df.columns[0],ascending=True)\n",
    "        df = df.reset_index(drop=True)\n",
    "        df_sector[sector_name][stock_code] = df"
   ]
  },
  {
   "cell_type": "code",
   "execution_count": 9,
   "id": "df552324",
   "metadata": {},
   "outputs": [
    {
     "data": {
      "text/html": [
       "<div>\n",
       "<style scoped>\n",
       "    .dataframe tbody tr th:only-of-type {\n",
       "        vertical-align: middle;\n",
       "    }\n",
       "\n",
       "    .dataframe tbody tr th {\n",
       "        vertical-align: top;\n",
       "    }\n",
       "\n",
       "    .dataframe thead th {\n",
       "        text-align: right;\n",
       "    }\n",
       "</style>\n",
       "<table border=\"1\" class=\"dataframe\">\n",
       "  <thead>\n",
       "    <tr style=\"text-align: right;\">\n",
       "      <th></th>\n",
       "      <th>일자</th>\n",
       "      <th>거래량</th>\n",
       "      <th>시가</th>\n",
       "      <th>고가</th>\n",
       "      <th>저가</th>\n",
       "      <th>종가</th>\n",
       "    </tr>\n",
       "  </thead>\n",
       "  <tbody>\n",
       "    <tr>\n",
       "      <th>10</th>\n",
       "      <td>2010-06-07</td>\n",
       "      <td>48198</td>\n",
       "      <td>210500</td>\n",
       "      <td>213500</td>\n",
       "      <td>209500</td>\n",
       "      <td>212000</td>\n",
       "    </tr>\n",
       "    <tr>\n",
       "      <th>11</th>\n",
       "      <td>2010-06-08</td>\n",
       "      <td>50727</td>\n",
       "      <td>211000</td>\n",
       "      <td>213500</td>\n",
       "      <td>209500</td>\n",
       "      <td>211000</td>\n",
       "    </tr>\n",
       "    <tr>\n",
       "      <th>12</th>\n",
       "      <td>2010-06-09</td>\n",
       "      <td>52375</td>\n",
       "      <td>212000</td>\n",
       "      <td>218000</td>\n",
       "      <td>210500</td>\n",
       "      <td>214000</td>\n",
       "    </tr>\n",
       "    <tr>\n",
       "      <th>13</th>\n",
       "      <td>2010-06-10</td>\n",
       "      <td>61195</td>\n",
       "      <td>214500</td>\n",
       "      <td>219500</td>\n",
       "      <td>213500</td>\n",
       "      <td>219000</td>\n",
       "    </tr>\n",
       "    <tr>\n",
       "      <th>14</th>\n",
       "      <td>2010-06-11</td>\n",
       "      <td>89684</td>\n",
       "      <td>217000</td>\n",
       "      <td>220000</td>\n",
       "      <td>211500</td>\n",
       "      <td>214500</td>\n",
       "    </tr>\n",
       "    <tr>\n",
       "      <th>...</th>\n",
       "      <td>...</td>\n",
       "      <td>...</td>\n",
       "      <td>...</td>\n",
       "      <td>...</td>\n",
       "      <td>...</td>\n",
       "      <td>...</td>\n",
       "    </tr>\n",
       "    <tr>\n",
       "      <th>4</th>\n",
       "      <td>2022-07-26</td>\n",
       "      <td>19443</td>\n",
       "      <td>395000</td>\n",
       "      <td>400500</td>\n",
       "      <td>395000</td>\n",
       "      <td>397000</td>\n",
       "    </tr>\n",
       "    <tr>\n",
       "      <th>3</th>\n",
       "      <td>2022-07-27</td>\n",
       "      <td>16778</td>\n",
       "      <td>396500</td>\n",
       "      <td>400000</td>\n",
       "      <td>394000</td>\n",
       "      <td>395000</td>\n",
       "    </tr>\n",
       "    <tr>\n",
       "      <th>2</th>\n",
       "      <td>2022-07-28</td>\n",
       "      <td>25944</td>\n",
       "      <td>395500</td>\n",
       "      <td>398000</td>\n",
       "      <td>391000</td>\n",
       "      <td>395000</td>\n",
       "    </tr>\n",
       "    <tr>\n",
       "      <th>1</th>\n",
       "      <td>2022-07-29</td>\n",
       "      <td>27618</td>\n",
       "      <td>397500</td>\n",
       "      <td>397500</td>\n",
       "      <td>389000</td>\n",
       "      <td>391500</td>\n",
       "    </tr>\n",
       "    <tr>\n",
       "      <th>0</th>\n",
       "      <td>2022-08-01</td>\n",
       "      <td>37591</td>\n",
       "      <td>391500</td>\n",
       "      <td>392000</td>\n",
       "      <td>383500</td>\n",
       "      <td>387000</td>\n",
       "    </tr>\n",
       "  </tbody>\n",
       "</table>\n",
       "<p>3000 rows × 6 columns</p>\n",
       "</div>"
      ],
      "text/plain": [
       "           일자    거래량      시가      고가      저가      종가\n",
       "10 2010-06-07  48198  210500  213500  209500  212000\n",
       "11 2010-06-08  50727  211000  213500  209500  211000\n",
       "12 2010-06-09  52375  212000  218000  210500  214000\n",
       "13 2010-06-10  61195  214500  219500  213500  219000\n",
       "14 2010-06-11  89684  217000  220000  211500  214500\n",
       "..        ...    ...     ...     ...     ...     ...\n",
       "4  2022-07-26  19443  395000  400500  395000  397000\n",
       "3  2022-07-27  16778  396500  400000  394000  395000\n",
       "2  2022-07-28  25944  395500  398000  391000  395000\n",
       "1  2022-07-29  27618  397500  397500  389000  391500\n",
       "0  2022-08-01  37591  391500  392000  383500  387000\n",
       "\n",
       "[3000 rows x 6 columns]"
      ]
     },
     "execution_count": 9,
     "metadata": {},
     "output_type": "execute_result"
    }
   ],
   "source": [
    "df_sector['Food']['097950']"
   ]
  },
  {
   "cell_type": "code",
   "execution_count": 10,
   "id": "425688cd",
   "metadata": {},
   "outputs": [],
   "source": [
    "with open('df_sector_UTD.pickle','wb') as f:\n",
    "    pickle.dump(df_sector,f)"
   ]
  },
  {
   "cell_type": "code",
   "execution_count": null,
   "id": "82a37a13",
   "metadata": {},
   "outputs": [],
   "source": []
  }
 ],
 "metadata": {
  "kernelspec": {
   "display_name": "Python 3 (ipykernel)",
   "language": "python",
   "name": "python3"
  },
  "language_info": {
   "codemirror_mode": {
    "name": "ipython",
    "version": 3
   },
   "file_extension": ".py",
   "mimetype": "text/x-python",
   "name": "python",
   "nbconvert_exporter": "python",
   "pygments_lexer": "ipython3",
   "version": "3.9.12"
  }
 },
 "nbformat": 4,
 "nbformat_minor": 5
}
