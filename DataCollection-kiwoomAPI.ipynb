{
 "cells": [
  {
   "cell_type": "markdown",
   "id": "ee258d48",
   "metadata": {},
   "source": [
    "# 1. 로그인"
   ]
  },
  {
   "cell_type": "code",
   "execution_count": 1,
   "id": "6d8a59c3",
   "metadata": {},
   "outputs": [
    {
     "ename": "AttributeError",
     "evalue": "'QAxWidget' object has no attribute 'OnReceiveTrData'",
     "output_type": "error",
     "traceback": [
      "\u001b[1;31m---------------------------------------------------------------------------\u001b[0m",
      "\u001b[1;31mAttributeError\u001b[0m                            Traceback (most recent call last)",
      "\u001b[1;32m~\\AppData\\Local\\Temp/ipykernel_15128/4192919999.py\u001b[0m in \u001b[0;36m<module>\u001b[1;34m\u001b[0m\n\u001b[0;32m      6\u001b[0m \u001b[0mwarnings\u001b[0m\u001b[1;33m.\u001b[0m\u001b[0mfilterwarnings\u001b[0m\u001b[1;33m(\u001b[0m\u001b[1;34m'ignore'\u001b[0m\u001b[1;33m)\u001b[0m\u001b[1;33m\u001b[0m\u001b[1;33m\u001b[0m\u001b[0m\n\u001b[0;32m      7\u001b[0m \u001b[1;33m\u001b[0m\u001b[0m\n\u001b[1;32m----> 8\u001b[1;33m \u001b[0mkiwoom\u001b[0m \u001b[1;33m=\u001b[0m \u001b[0mKiwoom\u001b[0m\u001b[1;33m(\u001b[0m\u001b[1;33m)\u001b[0m\u001b[1;33m\u001b[0m\u001b[1;33m\u001b[0m\u001b[0m\n\u001b[0m\u001b[0;32m      9\u001b[0m \u001b[0mkiwoom\u001b[0m\u001b[1;33m.\u001b[0m\u001b[0mCommConnect\u001b[0m\u001b[1;33m(\u001b[0m\u001b[0mblock\u001b[0m\u001b[1;33m=\u001b[0m\u001b[1;32mTrue\u001b[0m\u001b[1;33m)\u001b[0m\u001b[1;33m\u001b[0m\u001b[1;33m\u001b[0m\u001b[0m\n",
      "\u001b[1;32m~\\anaconda3\\lib\\site-packages\\pykiwoom\\kiwoom.py\u001b[0m in \u001b[0;36m__init__\u001b[1;34m(self, login, tr_dqueue, real_dqueues, tr_cond_dqueue, real_cond_dqueue, chejan_dqueue)\u001b[0m\n\u001b[0;32m     35\u001b[0m         \u001b[0mself\u001b[0m\u001b[1;33m.\u001b[0m\u001b[0mcondition_loaded\u001b[0m   \u001b[1;33m=\u001b[0m \u001b[1;32mFalse\u001b[0m\u001b[1;33m\u001b[0m\u001b[1;33m\u001b[0m\u001b[0m\n\u001b[0;32m     36\u001b[0m \u001b[1;33m\u001b[0m\u001b[0m\n\u001b[1;32m---> 37\u001b[1;33m         \u001b[0mself\u001b[0m\u001b[1;33m.\u001b[0m\u001b[0m_set_signals_slots\u001b[0m\u001b[1;33m(\u001b[0m\u001b[1;33m)\u001b[0m\u001b[1;33m\u001b[0m\u001b[1;33m\u001b[0m\u001b[0m\n\u001b[0m\u001b[0;32m     38\u001b[0m \u001b[1;33m\u001b[0m\u001b[0m\n\u001b[0;32m     39\u001b[0m         \u001b[0mself\u001b[0m\u001b[1;33m.\u001b[0m\u001b[0mtr_output\u001b[0m \u001b[1;33m=\u001b[0m \u001b[1;33m{\u001b[0m\u001b[1;33m}\u001b[0m\u001b[1;33m\u001b[0m\u001b[1;33m\u001b[0m\u001b[0m\n",
      "\u001b[1;32m~\\anaconda3\\lib\\site-packages\\pykiwoom\\kiwoom.py\u001b[0m in \u001b[0;36m_set_signals_slots\u001b[1;34m(self)\u001b[0m\n\u001b[0;32m    233\u001b[0m \u001b[1;33m\u001b[0m\u001b[0m\n\u001b[0;32m    234\u001b[0m     \u001b[1;32mdef\u001b[0m \u001b[0m_set_signals_slots\u001b[0m\u001b[1;33m(\u001b[0m\u001b[0mself\u001b[0m\u001b[1;33m)\u001b[0m\u001b[1;33m:\u001b[0m\u001b[1;33m\u001b[0m\u001b[1;33m\u001b[0m\u001b[0m\n\u001b[1;32m--> 235\u001b[1;33m         \u001b[0mself\u001b[0m\u001b[1;33m.\u001b[0m\u001b[0mocx\u001b[0m\u001b[1;33m.\u001b[0m\u001b[0mOnReceiveTrData\u001b[0m\u001b[1;33m.\u001b[0m\u001b[0mconnect\u001b[0m\u001b[1;33m(\u001b[0m\u001b[0mself\u001b[0m\u001b[1;33m.\u001b[0m\u001b[0mOnReceiveTrData\u001b[0m\u001b[1;33m)\u001b[0m\u001b[1;33m\u001b[0m\u001b[1;33m\u001b[0m\u001b[0m\n\u001b[0m\u001b[0;32m    236\u001b[0m         \u001b[0mself\u001b[0m\u001b[1;33m.\u001b[0m\u001b[0mocx\u001b[0m\u001b[1;33m.\u001b[0m\u001b[0mOnReceiveRealData\u001b[0m\u001b[1;33m.\u001b[0m\u001b[0mconnect\u001b[0m\u001b[1;33m(\u001b[0m\u001b[0mself\u001b[0m\u001b[1;33m.\u001b[0m\u001b[0mOnReceiveRealData\u001b[0m\u001b[1;33m)\u001b[0m\u001b[1;33m\u001b[0m\u001b[1;33m\u001b[0m\u001b[0m\n\u001b[0;32m    237\u001b[0m         \u001b[0mself\u001b[0m\u001b[1;33m.\u001b[0m\u001b[0mocx\u001b[0m\u001b[1;33m.\u001b[0m\u001b[0mOnReceiveMsg\u001b[0m\u001b[1;33m.\u001b[0m\u001b[0mconnect\u001b[0m\u001b[1;33m(\u001b[0m\u001b[0mself\u001b[0m\u001b[1;33m.\u001b[0m\u001b[0mOnReceiveMsg\u001b[0m\u001b[1;33m)\u001b[0m\u001b[1;33m\u001b[0m\u001b[1;33m\u001b[0m\u001b[0m\n",
      "\u001b[1;31mAttributeError\u001b[0m: 'QAxWidget' object has no attribute 'OnReceiveTrData'"
     ]
    }
   ],
   "source": [
    "import pickle\n",
    "import time\n",
    "import pandas as pd\n",
    "from pykiwoom.kiwoom import *\n",
    "import warnings\n",
    "warnings.filterwarnings('ignore')\n",
    "\n",
    "kiwoom = Kiwoom()\n",
    "kiwoom.CommConnect(block=True)"
   ]
  },
  {
   "cell_type": "code",
   "execution_count": null,
   "id": "a1242cbe",
   "metadata": {},
   "outputs": [],
   "source": [
    "# login - information\n",
    "account_num = kiwoom.GetLoginInfo('ACCOUNT_CNT') # number of account\n",
    "accounts = kiwoom.GetLoginInfo('ACCNO') # list of account\n",
    "user_id = kiwoom.GetLoginInfo('USER_ID') # user id\n",
    "user_name = kiwoom.GetLoginInfo('USER_NAME') # user name\n",
    "#print('number of account : {}'.format(account_num))"
   ]
  },
  {
   "cell_type": "code",
   "execution_count": null,
   "id": "a90fc5f6",
   "metadata": {},
   "outputs": [],
   "source": [
    "state = kiwoom.GetConnectState()\n",
    "if state == 0:\n",
    "    print(\"미연결\")\n",
    "elif state == 1:\n",
    "    print(\"연결완료\")"
   ]
  },
  {
   "cell_type": "markdown",
   "id": "3baf283c",
   "metadata": {},
   "source": [
    "# 2. 변수 설정\n"
   ]
  },
  {
   "cell_type": "code",
   "execution_count": null,
   "id": "cfbd80c8",
   "metadata": {},
   "outputs": [],
   "source": [
    "from datetime import date,datetime,timedelta\n",
    "today = date.today()+timedelta(hours=9)\n",
    "today = today.isoformat()\n",
    "today = today.replace('-','')\n",
    "set_d = today\n",
    "set_d"
   ]
  },
  {
   "cell_type": "code",
   "execution_count": null,
   "id": "63c41a47",
   "metadata": {},
   "outputs": [],
   "source": [
    "#SectorList : {sector_name: stockcode_list}\n",
    "sector = {'Food':['097950', '271560', '000080','004370','005300'],\n",
    "          'Clothing' : ['383220','093050','020000','105630','001070'],\n",
    "          'Chemical' : ['051910','096770','010950','051900','090430'],\n",
    "          'Medicine' : ['207940','068270','302440','000100','128940'],\n",
    "          'Non_Metal' : ['003670','003410','010780','300720'],\n",
    "          'Metal': ['005490','010130', '004020','016380','001230'],\n",
    "          'Machine' : ['034020','018880','241560','112610'],\n",
    "          'Electronic' : ['005930','000660','373220','006400','066570'],\n",
    "          'Construction' : ['000720','006360','047040','051600'],\n",
    "          'Transport': ['011200','003490','086280','180640','028670'],\n",
    "          'Distribution' : ['028260','023530','282330','139480','004170'],\n",
    "          'Power': ['015760','036460','017390'],\n",
    "          'Tele' : ['017670','030200','032640'],\n",
    "          'Finance': ['323410','003550','000810','377300','006800'],\n",
    "          'Brokerage' : ['005940','016360','008560','039490'],\n",
    "          'Insurer':['032830','005830','000060','001450'],\n",
    "          'Service':['035420','035720','259960','018260','036570'],\n",
    "          'Manufacturer':['005380','000270','012330','329180','033780','009150']     \n",
    "     }"
   ]
  },
  {
   "cell_type": "code",
   "execution_count": null,
   "id": "af6511a8",
   "metadata": {},
   "outputs": [],
   "source": [
    "df_sector = {'Food':{},\n",
    "          'Clothing' : {},\n",
    "          'Chemical' : {},\n",
    "          'Medicine' : {},\n",
    "          'Non_Metal' : {},\n",
    "          'Metal': {},\n",
    "          'Machine' : {},\n",
    "          'Electronic' : {},\n",
    "          'Construction' : {},\n",
    "          'Transport': {},\n",
    "          'Distribution' : {},\n",
    "          'Power': {},\n",
    "          'Tele' : {},\n",
    "          'Finance': {},\n",
    "          'Brokerage' : {},\n",
    "          'Insurer': {},\n",
    "          'Service': {},\n",
    "          'Manufacturer': {}}"
   ]
  },
  {
   "cell_type": "markdown",
   "id": "feaaa5a5",
   "metadata": {},
   "source": [
    "# 3. 데이터 수집 함수"
   ]
  },
  {
   "cell_type": "code",
   "execution_count": null,
   "id": "10154b9f",
   "metadata": {},
   "outputs": [],
   "source": [
    "def checkStockPrice(sector_name,stockcode):\n",
    "    dfs = [] #데이터프레임리스트\n",
    "    count=0\n",
    "    df = kiwoom.block_request(\"opt10081\",\n",
    "                          종목코드=stockcode,\n",
    "                          기준일자=set_d,\n",
    "                          수정주가구분=1,\n",
    "                          output=\"주식일봉차트조회\",\n",
    "                          next=0)\n",
    "    count+=1\n",
    "    print('데이터 수집 시작.. ({}~)'.format(df.loc[0,'일자']))\n",
    "    print('데이터 수집 중.. (~{})'.format(df.loc[len(df)-1,'일자']))\n",
    "    dfs.append(df)\n",
    "    while kiwoom.tr_remained:\n",
    "        df = kiwoom.block_request(\"opt10081\",\n",
    "                                  종목코드=stockcode,\n",
    "                                  기준일자=set_d,\n",
    "                                  수정주가구분=1,\n",
    "                                  output=\"주식일봉차트조회\",\n",
    "                                  next=2)\n",
    "        dfs.append(df)\n",
    "        time.sleep(1)\n",
    "        print('데이터 수집 중.. (~{})'.format(df.loc[len(df)-1,'일자']))\n",
    "        count+=1\n",
    "        if kiwoom.tr_remained == False:\n",
    "            print('데이터 수집 완료')\n",
    "        elif count == 5:\n",
    "            print('3000개 데이터를 확보')\n",
    "            break;\n",
    "        \n",
    "    df_item = pd.concat(dfs)\n",
    "    df_item.reset_index(drop=True,inplace=True)\n",
    "    df_sector[sector_name][stockcode] = df_item"
   ]
  },
  {
   "cell_type": "markdown",
   "id": "fa8ffe8d",
   "metadata": {},
   "source": [
    "# 4. 데이터 수집 자동화"
   ]
  },
  {
   "cell_type": "code",
   "execution_count": null,
   "id": "edc67faa",
   "metadata": {},
   "outputs": [],
   "source": [
    "#일봉 데이터 수집 자동화 코드\n",
    "for sector_name, stockcode_list in sector.items():\n",
    "    print(f'---------{sector_name}업종 데이터 수집----------')\n",
    "    for stockcode in stockcode_list:\n",
    "        # 주식항목이름\n",
    "        stockname = kiwoom.GetMasterCodeName(stockcode)\n",
    "        print(f'--------[{stockname}] 항목 데이터 수집---------')\n",
    "        checkStockPrice(sector_name,stockcode)\n",
    "        \n",
    "    "
   ]
  },
  {
   "cell_type": "code",
   "execution_count": null,
   "id": "a1eb59d6",
   "metadata": {},
   "outputs": [],
   "source": [
    "len(df_sector)"
   ]
  },
  {
   "cell_type": "markdown",
   "id": "4dfdae5f",
   "metadata": {},
   "source": [
    "# 5. 데이터 버리기\n",
    "주식 시장 상장이 1000일 전날의 이후일 경우 배제"
   ]
  },
  {
   "cell_type": "code",
   "execution_count": null,
   "id": "f54590ae",
   "metadata": {},
   "outputs": [],
   "source": [
    "lack_sector_list={}\n",
    "for sector_name, df_dict in df_sector.items():\n",
    "    lack_stock_list = []\n",
    "    for stockcode, df in df_dict.items():\n",
    "        if len(df)<1000:\n",
    "            lack_stock_list.append(stockcode)\n",
    "    lack_sector_list[sector_name] = lack_stock_list\n",
    "print(lack_sector_list)"
   ]
  },
  {
   "cell_type": "code",
   "execution_count": null,
   "id": "7e6cd16f",
   "metadata": {},
   "outputs": [],
   "source": [
    "for sector_name, item_dic in df_sector.items(): #{'업종명' : {'stockcode': df}}\n",
    "    lack_stock_list = lack_sector_list[sector_name]\n",
    "    for lack_stockcode in lack_stock_list:\n",
    "        sector[sector_name].remove(lack_stockcode)\n",
    "        del df_sector[sector_name][lack_stockcode]"
   ]
  },
  {
   "cell_type": "code",
   "execution_count": null,
   "id": "764d82bb",
   "metadata": {},
   "outputs": [],
   "source": [
    "for sector_name, item_dic in df_sector.items():\n",
    "    print(sector_name, len(item_dic))"
   ]
  },
  {
   "cell_type": "markdown",
   "id": "cafa1710",
   "metadata": {},
   "source": [
    "# 6. 특성선택"
   ]
  },
  {
   "cell_type": "code",
   "execution_count": null,
   "id": "e3dcde0d",
   "metadata": {},
   "outputs": [],
   "source": [
    "# df_sector = {'Food':{'code': DataFrame}}\n",
    "for sector_name, df_dict in df_sector.items():\n",
    "    for stock_code, df in df_dict.items():\n",
    "        df = df[['일자','현재가','거래량','시가','고가','저가']]\n",
    "        df['일자'] = pd.to_datetime(df['일자'])\n",
    "        df['종가'] = df['현재가'].astype(int)\n",
    "        del df['현재가']\n",
    "        df['거래량'] = df['거래량'].astype(int)\n",
    "        df['시가'] = df['시가'].astype(int)\n",
    "        df['고가'] = df['고가'].astype(int)\n",
    "        df['저가'] = df['저가'].astype(int)\n",
    "        df = df.sort_values(by='일자',ascending=True)\n",
    "        df.reset_index(drop=True,inplace=True)\n",
    "        df_sector[sector_name][stock_code] = df"
   ]
  },
  {
   "cell_type": "markdown",
   "id": "2144af1e",
   "metadata": {},
   "source": [
    "# 7. 항목코드별 kr이름 맵팽"
   ]
  },
  {
   "cell_type": "code",
   "execution_count": null,
   "id": "e65e0127",
   "metadata": {},
   "outputs": [],
   "source": [
    "sector_name_kr = {}\n",
    "for sector_name, df_dict in df_sector.items():\n",
    "    sector_name_kr[sector_name] = []\n",
    "    for stock_code in df_dict:\n",
    "        kr_name = kiwoom.GetMasterCodeName(stock_code)\n",
    "        sector_name_kr[sector_name].append(kr_name)\n",
    "        "
   ]
  },
  {
   "cell_type": "markdown",
   "id": "57f68665",
   "metadata": {},
   "source": [
    "# 7. 데이터 저장"
   ]
  },
  {
   "cell_type": "code",
   "execution_count": null,
   "id": "64da516c",
   "metadata": {},
   "outputs": [],
   "source": [
    "with open('df_sector.pickle','wb') as f:\n",
    "    pickle.dump(df_sector,f)"
   ]
  },
  {
   "cell_type": "code",
   "execution_count": null,
   "id": "bc07a409",
   "metadata": {},
   "outputs": [],
   "source": [
    "with open('sector.pickle','wb') as f:\n",
    "    pickle.dump(sector,f)"
   ]
  },
  {
   "cell_type": "code",
   "execution_count": null,
   "id": "0dd5e173",
   "metadata": {},
   "outputs": [],
   "source": [
    "with open('sector_name_kr.pickle','wb') as f:\n",
    "    pickle.dump(sector_name_kr,f)"
   ]
  },
  {
   "cell_type": "code",
   "execution_count": 5,
   "id": "6ceed82f",
   "metadata": {},
   "outputs": [],
   "source": [
    "with open('df_sector.pickle','rb') as f:\n",
    "    df_sector = pickle.load(f)"
   ]
  },
  {
   "cell_type": "code",
   "execution_count": 11,
   "id": "fdca5110",
   "metadata": {},
   "outputs": [
    {
     "name": "stdout",
     "output_type": "stream",
     "text": [
      "<class 'pandas.core.frame.DataFrame'>\n",
      "Int64Index: 3000 entries, 2999 to 0\n",
      "Data columns (total 6 columns):\n",
      " #   Column  Non-Null Count  Dtype         \n",
      "---  ------  --------------  -----         \n",
      " 0   일자      3000 non-null   datetime64[ns]\n",
      " 1   거래량     3000 non-null   int32         \n",
      " 2   시가      3000 non-null   int32         \n",
      " 3   고가      3000 non-null   int32         \n",
      " 4   저가      3000 non-null   int32         \n",
      " 5   종가      3000 non-null   int32         \n",
      "dtypes: datetime64[ns](1), int32(5)\n",
      "memory usage: 105.5 KB\n"
     ]
    }
   ],
   "source": [
    "df_sector['Food']['097950'].info()"
   ]
  },
  {
   "cell_type": "code",
   "execution_count": null,
   "id": "bc950143",
   "metadata": {},
   "outputs": [],
   "source": []
  }
 ],
 "metadata": {
  "kernelspec": {
   "display_name": "Python 3 (ipykernel)",
   "language": "python",
   "name": "python3"
  },
  "language_info": {
   "codemirror_mode": {
    "name": "ipython",
    "version": 3
   },
   "file_extension": ".py",
   "mimetype": "text/x-python",
   "name": "python",
   "nbconvert_exporter": "python",
   "pygments_lexer": "ipython3",
   "version": "3.9.12"
  }
 },
 "nbformat": 4,
 "nbformat_minor": 5
}
